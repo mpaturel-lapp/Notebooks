{
 "cells": [
  {
   "cell_type": "markdown",
   "id": "ef11034f-deb4-4b52-a8af-4c4adaa4900f",
   "metadata": {
    "jp-MarkdownHeadingCollapsed": true,
    "tags": []
   },
   "source": [
    "### Chargement des packages "
   ]
  },
  {
   "cell_type": "code",
   "execution_count": 25,
   "id": "4a719697-a789-41e8-b84c-f2e958315cf9",
   "metadata": {},
   "outputs": [],
   "source": [
    "from matplotlib import pylab as plt\n",
    "\n",
    "import lsst.daf.persistence as dp\n",
    "import lsst.afw.display as display\n",
    "import lsst.afw.display.rgb as rgb\n",
    "import lsst.geom as geom\n",
    "\n",
    "import numpy as np\n",
    "import os, glob\n",
    "\n",
    "import mysql\n",
    "from mysql.connector import Error\n",
    "\n",
    "import pandas as pd\n",
    "import cv2\n",
    "from tifffile import imread, imwrite\n",
    "\n",
    "import matplotlib.cm as cm\n"
   ]
  },
  {
   "cell_type": "markdown",
   "id": "a6b66b5b-b801-4eef-a04b-4886cda63c51",
   "metadata": {},
   "source": [
    "### Butler "
   ]
  },
  {
   "cell_type": "code",
   "execution_count": 26,
   "id": "89c3e105-b1a8-4a82-8f2e-7eb2e1b3900b",
   "metadata": {},
   "outputs": [
    {
     "name": "stdout",
     "output_type": "stream",
     "text": [
      "lsst.CameraMapper INFO: Loading exposure registry from /sps/lsst/dataproducts/desc/DC2/Run2.2i/v19.0.0-v1/registry.sqlite3\n",
      "lsst.CameraMapper INFO: Loading calib registry from /sps/lsst/dataproducts/desc/DC2/Run2.2i/v19.0.0-v1/CALIB/calibRegistry.sqlite3\n",
      "lsst.CameraMapper INFO: Loading calib registry from /sps/lsst/dataproducts/desc/DC2/Run2.2i/v19.0.0-v1/CALIB/calibRegistry.sqlite3\n",
      "lsst.CameraMapper INFO: Loading calib registry from /sps/lsst/dataproducts/desc/DC2/Run2.2i/v19.0.0-v1/CALIB/calibRegistry.sqlite3\n",
      "LsstCamMapper WARN: Unable to find valid calib root directory\n",
      "lsst.CameraMapper INFO: Loading calib registry from /sps/lsst/dataproducts/desc/DC2/Run2.2i/v19.0.0-v1/CALIB/calibRegistry.sqlite3\n",
      "lsst.CameraMapper INFO: Loading exposure registry from /sps/lsst/dataproducts/desc/DC2/Run2.2i/v19.0.0-v1/registry.sqlite3\n",
      "lsst.CameraMapper INFO: Loading calib registry from /sps/lsst/dataproducts/desc/DC2/Run2.2i/v19.0.0-v1/CALIB/calibRegistry.sqlite3\n",
      "lsst.CameraMapper INFO: Loading calib registry from /sps/lsst/dataproducts/desc/DC2/Run2.2i/v19.0.0-v1/CALIB/calibRegistry.sqlite3\n",
      "lsst.CameraMapper INFO: Loading exposure registry from /sps/lsst/dataproducts/desc/DC2/Run2.2i/v19.0.0-v1/registry.sqlite3\n",
      "lsst.CameraMapper INFO: Loading calib registry from /sps/lsst/dataproducts/desc/DC2/Run2.2i/v19.0.0-v1/CALIB/calibRegistry.sqlite3\n",
      "LsstCamMapper WARN: Unable to find valid calib root directory\n",
      "lsst.CameraMapper INFO: Loading calib registry from /sps/lsst/dataproducts/desc/DC2/Run2.2i/v19.0.0-v1/CALIB/calibRegistry.sqlite3\n",
      "lsst.CameraMapper INFO: Loading exposure registry from /sps/lsst/dataproducts/desc/DC2/Run2.2i/v19.0.0-v1/registry.sqlite3\n",
      "lsst.CameraMapper INFO: Loading calib registry from /sps/lsst/dataproducts/desc/DC2/Run2.2i/v19.0.0-v1/CALIB/calibRegistry.sqlite3\n",
      "lsst.CameraMapper INFO: Loading calib registry from /sps/lsst/dataproducts/desc/DC2/Run2.2i/v19.0.0-v1/CALIB/calibRegistry.sqlite3\n",
      "lsst.CameraMapper INFO: Loading exposure registry from /sps/lsst/dataproducts/desc/DC2/Run2.2i/v19.0.0-v1/registry.sqlite3\n",
      "lsst.CameraMapper INFO: Loading calib registry from /sps/lsst/dataproducts/desc/DC2/Run2.2i/v19.0.0-v1/CALIB/calibRegistry.sqlite3\n"
     ]
    }
   ],
   "source": [
    "repo = \"/sps/lsst/dataproducts/desc/DC2/Run2.2i/v19.0.0-v1/rerun/run2.2i-coadd-wfd-dr6-v1\"\n",
    "butler = dp.Butler(repo)"
   ]
  },
  {
   "cell_type": "code",
   "execution_count": 27,
   "id": "b0db5d1c-431e-440d-a6b9-8f6597e3dee8",
   "metadata": {},
   "outputs": [],
   "source": [
    "tract = 4226\n",
    "patch = (6,4)"
   ]
  },
  {
   "cell_type": "code",
   "execution_count": 28,
   "id": "d75f322d-74e2-4d48-9506-08ce2b1730ef",
   "metadata": {},
   "outputs": [
    {
     "name": "stdout",
     "output_type": "stream",
     "text": [
      "Found 173 merged tracts in repo /sps/lsst/dataproducts/desc/DC2/Run2.2i/v19.0.0-v1/rerun/run2.2i-coadd-wfd-dr6-v1\n"
     ]
    }
   ],
   "source": [
    "# Collect tract indices from file names\n",
    "tracts = sorted([int(os.path.basename(x)) for x in\n",
    "                 glob.glob(os.path.join(repo, 'deepCoadd-results', 'merged', '*'))])\n",
    "num_tracts = len(tracts)\n",
    "\n",
    "print(\"Found {} merged tracts in repo {}\".format(num_tracts, repo))"
   ]
  },
  {
   "cell_type": "code",
   "execution_count": 29,
   "id": "2e452ff0-69d8-4896-a2e1-e98dc9eb23dd",
   "metadata": {},
   "outputs": [
    {
     "name": "stdout",
     "output_type": "stream",
     "text": [
      "TractInfo(id=4226)\n"
     ]
    }
   ],
   "source": [
    "skyMap = butler.get(\"deepCoadd_skyMap\")\n",
    "tractInfo = skyMap[tract]\n",
    "print(tractInfo)"
   ]
  },
  {
   "cell_type": "code",
   "execution_count": 30,
   "id": "250e551b-66dc-47e0-aab2-ee7d28c4cae7",
   "metadata": {},
   "outputs": [],
   "source": [
    "patchs = sorted([os.path.basename(x) for x in\n",
    "                 glob.glob(os.path.join(repo, 'deepCoadd-results', 'merged', str(tract), '*'))])"
   ]
  },
  {
   "cell_type": "code",
   "execution_count": 31,
   "id": "22b3bddb-d819-44de-bd9c-ef4621a405f3",
   "metadata": {},
   "outputs": [],
   "source": [
    "patchInfo = tractInfo.getPatchInfo(patch)"
   ]
  },
  {
   "cell_type": "code",
   "execution_count": 32,
   "id": "b422145d-2414-4424-8fd4-fa2694969bd5",
   "metadata": {},
   "outputs": [],
   "source": [
    "poly = patchInfo.getInnerSkyPolygon(tractInfo.getWcs())\n",
    "wcs = tractInfo.getWcs()\n",
    "vertices = poly.getVertices()\n",
    "boxRa = []\n",
    "boxDec = []\n",
    "for pt in poly.getVertices():\n",
    "    boxRa.append(geom.SpherePoint(pt).getRa().asDegrees())\n",
    "    boxDec.append(geom.SpherePoint(pt).getDec().asDegrees())"
   ]
  },
  {
   "cell_type": "code",
   "execution_count": 33,
   "id": "af5167ab-5562-4be3-aac7-b1e964b9b0df",
   "metadata": {},
   "outputs": [
    {
     "name": "stdout",
     "output_type": "stream",
     "text": [
      "53.77472182809934 54.04242848258739\n",
      "-33.35816232788211 -33.13427110049693\n"
     ]
    }
   ],
   "source": [
    "print(np.min(boxRa), np.max(boxRa))\n",
    "print(np.min(boxDec), np.max(boxDec))"
   ]
  },
  {
   "cell_type": "code",
   "execution_count": 34,
   "id": "9c33b8e5-0482-4ffd-a1b6-7cf38995b003",
   "metadata": {},
   "outputs": [],
   "source": [
    "ra_min = np.min(boxRa)\n",
    "ra_max = np.max(boxRa)\n",
    "dec_min = np.min(boxDec)\n",
    "dec_max = np.max(boxDec)"
   ]
  },
  {
   "cell_type": "code",
   "execution_count": 35,
   "id": "837277ab-aabc-4872-ae63-887b8fc1ce72",
   "metadata": {},
   "outputs": [],
   "source": [
    "conn = mysql.connector.connect(host='ccqserv201', user='qsmaster', port=30040) \n",
    "cursor = conn.cursor(dictionary=True, buffered=True) "
   ]
  },
  {
   "cell_type": "code",
   "execution_count": 36,
   "id": "48fb754a-cbf8-41e9-a3f1-64c17badb0c6",
   "metadata": {},
   "outputs": [
    {
     "data": {
      "text/plain": [
       "[{'Database': 'cosmoDC2_v1_1_4_image'},\n",
       " {'Database': 'dc2_object_run22i_dr6_wfd_v2_00'},\n",
       " {'Database': 'dp01_dc2_catalogs'},\n",
       " {'Database': 'information_schema'},\n",
       " {'Database': 'qservCssData'},\n",
       " {'Database': 'qservMeta'},\n",
       " {'Database': 'qservResult'},\n",
       " {'Database': 'test'}]"
      ]
     },
     "execution_count": 36,
     "metadata": {},
     "output_type": "execute_result"
    }
   ],
   "source": [
    "query = \"SHOW DATABASES;\"\n",
    "cursor.execute(query)\n",
    "res = cursor.fetchall()\n",
    "res"
   ]
  },
  {
   "cell_type": "code",
   "execution_count": 37,
   "id": "7b573962-2f18-4c05-ad87-7458cdea3bff",
   "metadata": {},
   "outputs": [
    {
     "data": {
      "text/plain": [
       "[{'Tables_in_cosmoDC2_v1_1_4_image': 'data'},\n",
       " {'Tables_in_cosmoDC2_v1_1_4_image': 'position'}]"
      ]
     },
     "execution_count": 37,
     "metadata": {},
     "output_type": "execute_result"
    }
   ],
   "source": [
    "query = \"SHOW TABLES IN cosmoDC2_v1_1_4_image;\"\n",
    "cursor.execute(query)\n",
    "cursor.fetchall()"
   ]
  },
  {
   "cell_type": "code",
   "execution_count": 38,
   "id": "7a051580-a5e0-4a57-93c8-0fcd6756b03d",
   "metadata": {},
   "outputs": [
    {
     "data": {
      "text/plain": [
       "'SELECT data.coord_ra, data.coord_dec, data.halo_mass, data.redshift, data.Mag_true_z_lsst_z0, data.is_central, data.halo_id FROM cosmoDC2_v1_1_4_image.data as data WHERE scisql_s2PtInBox(data.coord_ra, data.coord_dec, 53.77472182809934, -33.35816232788211, 54.04242848258739, -33.13427110049693) = 1 AND data.halo_mass>100000000000000.0 AND data.redshift<1.3 ;'"
      ]
     },
     "execution_count": 38,
     "metadata": {},
     "output_type": "execute_result"
    }
   ],
   "source": [
    "mmin = 1.e14 #Msun\n",
    "zmax = 1.3\n",
    "#z0max = 1.5 #Rest-frame absolute magnitude, not lensed, in 'z'\n",
    "\n",
    "\n",
    "query = \"SELECT data.coord_ra, data.coord_dec, data.halo_mass, data.redshift, data.Mag_true_z_lsst_z0, data.is_central, data.halo_id \"\n",
    "query += \"FROM cosmoDC2_v1_1_4_image.data as data \"\n",
    "query += f\"WHERE scisql_s2PtInBox(data.coord_ra, data.coord_dec, {ra_min}, {dec_min}, {ra_max}, {dec_max}) = 1 \"\n",
    "query += f\"AND data.halo_mass>{mmin} AND data.redshift<{zmax} \"\n",
    "#query += \"AND data.is_central = 1 \" \n",
    "#query += f\"AND data.Mag_true_z_lsst_z0 < {z0max} \"\n",
    "query += \";\"\n",
    "query"
   ]
  },
  {
   "cell_type": "code",
   "execution_count": 39,
   "id": "0bd2adfa-a623-40f4-9fda-1d4b162dc761",
   "metadata": {},
   "outputs": [
    {
     "name": "stderr",
     "output_type": "stream",
     "text": [
      "/cvmfs/sw.lsst.eu/linux-x86_64/lsst_distrib/w_2022_07/conda/miniconda3-py38_4.9.2/envs/lsst-scipipe-1.0.0/lib/python3.8/site-packages/pandas/io/sql.py:758: UserWarning: pandas only support SQLAlchemy connectable(engine/connection) ordatabase string URI or sqlite3 DBAPI2 connectionother DBAPI2 objects are not tested, please consider using SQLAlchemy\n",
      "  warnings.warn(\n"
     ]
    },
    {
     "name": "stdout",
     "output_type": "stream",
     "text": [
      "CPU times: user 15.4 ms, sys: 62 µs, total: 15.5 ms\n",
      "Wall time: 3.21 s\n"
     ]
    },
    {
     "data": {
      "text/plain": [
       "947"
      ]
     },
     "execution_count": 39,
     "metadata": {},
     "output_type": "execute_result"
    }
   ],
   "source": [
    "%%time\n",
    "tab = pd.read_sql_query(query,conn)\n",
    "len(tab)"
   ]
  },
  {
   "cell_type": "code",
   "execution_count": 40,
   "id": "d4009d48-33cf-4193-902b-2e9c67804818",
   "metadata": {},
   "outputs": [
    {
     "data": {
      "text/plain": [
       "halo_id\n",
       "8400079442         7\n",
       "89500079411        9\n",
       "297700093382     403\n",
       "381700093279     138\n",
       "784400093331     161\n",
       "822700093338       8\n",
       "1175500093279      9\n",
       "1536700079279    136\n",
       "1855000093279     76\n",
       "dtype: int64"
      ]
     },
     "execution_count": 40,
     "metadata": {},
     "output_type": "execute_result"
    }
   ],
   "source": [
    "z = tab.groupby(['halo_id'])\n",
    "z.size()"
   ]
  },
  {
   "cell_type": "code",
   "execution_count": 41,
   "id": "d0b1c56b-a2f4-4b6b-ae66-dce6845296a8",
   "metadata": {},
   "outputs": [
    {
     "name": "stdout",
     "output_type": "stream",
     "text": [
      "8400079442 8400079442 (54.0102391634, -33.3510075889) (54.0424224016, -33.1721793450) 0.11556777974270438 2.050680293174085\n",
      "89500079411 89500079411 (53.9867364819, -33.2066217898) (54.0413878478, -33.1542133753) 0.1965158630441588 2.0009039473938026\n",
      "297700093382 297700093382 (53.7747348040, -33.3580023527) (54.0413296498, -33.2017109794) 0.28463500442316003 6.2471513896238875\n",
      "381700093279 381700093279 (53.7753117360, -33.2664633379) (53.8408477606, -33.2041619606) 0.772934887326115 1.8328340508845071\n",
      "784400093331 784400093331 (53.7853130874, -33.3542028397) (53.9692782903, -33.2363988664) 0.4808001952034644 2.272685394641127\n",
      "822700093338 822700093338 (53.8815898268, -33.3579085914) (53.9411478020, -33.3444787032) 0.45628325582676466 1.0081582688630986\n",
      "1175500093279 1175500093279 (53.7750650326, -33.2073327813) (53.8227423937, -33.1652109757) 0.7712397564888536 1.2308911706861971\n",
      "1536700079279 1536700079279 (53.9101049675, -33.1999422494) (53.9822249164, -33.1422698066) 0.7714064406370285 2.3499881896022536\n",
      "1855000093279 1855000093279 (53.7779457765, -33.2330175698) (53.8463341944, -33.1373640540) 0.7744164948842593 1.0254175344495775\n"
     ]
    }
   ],
   "source": [
    "skyBbox = []\n",
    "for halo, df in z:\n",
    "    if len(df) < 5 :\n",
    "        continue\n",
    "    min = geom.SpherePoint(df.coord_ra.min()*geom.degrees, df.coord_dec.min()*geom.degrees)\n",
    "    max = geom.SpherePoint(df.coord_ra.max()*geom.degrees, df.coord_dec.max()*geom.degrees)\n",
    "    print(halo, df.halo_id.to_list()[0], min, max, df.redshift.to_list()[0], df.halo_mass.to_list()[0]*1.e-14)\n",
    "    skyBbox.append([halo, min, max])"
   ]
  },
  {
   "cell_type": "code",
   "execution_count": 42,
   "id": "e092028d-f62f-4436-a30f-c138e8b7c1b5",
   "metadata": {},
   "outputs": [],
   "source": [
    "innerBbox = patchInfo.getInnerBBox()\n",
    "outerBbox = patchInfo.getOuterBBox()\n",
    "dX = 0.5*(outerBbox.getWidth()-innerBbox.getWidth())\n",
    "dY = 0.5*(outerBbox.getHeight()-innerBbox.getHeight())"
   ]
  },
  {
   "cell_type": "code",
   "execution_count": 43,
   "id": "1726a4a5-78e0-4599-9b21-11457fc176bc",
   "metadata": {},
   "outputs": [
    {
     "name": "stdout",
     "output_type": "stream",
     "text": [
      "(minimum=(24000, 16000), maximum=(27999, 19999))\n",
      "(minimum=(23900, 15900), maximum=(27999, 20099))\n"
     ]
    }
   ],
   "source": [
    "print(innerBbox)\n",
    "print(outerBbox)"
   ]
  },
  {
   "cell_type": "code",
   "execution_count": 44,
   "id": "9660290f-c37b-41db-8a49-1ec66eb0413b",
   "metadata": {},
   "outputs": [
    {
     "name": "stdout",
     "output_type": "stream",
     "text": [
      "100 100\n"
     ]
    }
   ],
   "source": [
    "innerBbox = patchInfo.getInnerBBox()\n",
    "outerBbox = patchInfo.getOuterBBox()\n",
    "dX = innerBbox.beginX-outerBbox.beginX\n",
    "dY = innerBbox.beginY-outerBbox.beginY\n",
    "print(dX, dY)"
   ]
  },
  {
   "cell_type": "code",
   "execution_count": 45,
   "id": "94f11526-0d4f-4c89-a0b9-c3a19d81a830",
   "metadata": {},
   "outputs": [],
   "source": [
    "# Get the 6 band image corresponding to a given tract, patch\n",
    "patchName = str(patch[0]) + ',' + str(patch[1])\n",
    "dataId = {'tract':tract, 'patch':patchName}\n",
    "im = {}\n",
    "filters = ['i', 'r', 'g']\n",
    "\n",
    "for f in filters:\n",
    "    dataId['filter'] = f\n",
    "    exp = butler.get('deepCoadd', dataId=dataId).getMaskedImage()[innerBbox]\n",
    "\n",
    "    im[f] = exp.getImage().getArray()\n",
    "    # We need to keep the reference coordinates X0, Y0 to convert image coordinates into natural CCD coordinates\n",
    "    if f == 'r':\n",
    "        X0 = exp.getX0()\n",
    "        Y0 = exp.getY0()"
   ]
  },
  {
   "cell_type": "code",
   "execution_count": 46,
   "id": "71ccd349-306f-4ba7-9637-b5c908c8ed4e",
   "metadata": {},
   "outputs": [],
   "source": [
    "rgb_im = rgb.makeRGB(im['i'], im['r'], im['g'], Q=8, minimum = -0.1, dataRange=1.5, \n",
    "                       saturatedPixelValue=100,\n",
    "                       xSize=None, ySize=None)"
   ]
  },
  {
   "cell_type": "markdown",
   "id": "d4be55e6-0ec4-4080-911a-b8797d075844",
   "metadata": {
    "tags": []
   },
   "source": [
    "### Ancien code"
   ]
  },
  {
   "cell_type": "raw",
   "id": "6b7037f5-8d00-4130-ab84-0e2a511b3ca1",
   "metadata": {},
   "source": [
    "patchName = str(patch[0]) + ',' + str(patch[1])\n",
    "dataId = {'tract':tract, 'patch':patchName}\n",
    "\n",
    "bandpass_color_map = {'green':'r', 'red':'i', 'blue':'g'}\n",
    "\n",
    "exposures = {}\n",
    "for bandpass in bandpass_color_map.values():\n",
    "    dataId['filter'] = bandpass\n",
    "    exposures[bandpass] = butler.get('deepCoadd', dataId=dataId)\n",
    "\n",
    "rgb_im = rgb.makeRGB(*(exposures[bandpass_color_map[color]].getMaskedImage()[innerBbox].getImage()\n",
    "                       for color in ('red', 'green', 'blue')), Q=8, minimum = -0.1, dataRange=1.5, \n",
    "                       saturatedPixelValue=100,\n",
    "                       xSize=None, ySize=None)"
   ]
  },
  {
   "cell_type": "raw",
   "id": "549fd932-97bf-4aac-ae7b-73e4b4e41200",
   "metadata": {},
   "source": [
    "##### Warning ######\n",
    "# Need to subtract X0, Y0 to coordinate returned by skyToPixel in order to be in CCD natural coordinates\n",
    "#coadd_r.getXY0()\n",
    "#XY0 = exposures['r'].getXY0()\n",
    "X0 = exposures['r'].getX0()\n",
    "Y0 = exposures['r'].getY0()\n",
    "print(X0, Y0)"
   ]
  },
  {
   "cell_type": "markdown",
   "id": "b447f115-c35f-4592-91d7-3eb4ceb4e8ab",
   "metadata": {},
   "source": [
    "### Affichage"
   ]
  },
  {
   "cell_type": "code",
   "execution_count": null,
   "id": "2f4e545e-a4af-4a50-86f7-8aaf81a68e1e",
   "metadata": {},
   "outputs": [
    {
     "name": "stdout",
     "output_type": "stream",
     "text": [
      "[0.12156863 0.46666667 0.70588235 1.        ]\n",
      "[1.         0.49803922 0.05490196 1.        ]\n",
      "[0.17254902 0.62745098 0.17254902 1.        ]\n",
      "[0.83921569 0.15294118 0.15686275 1.        ]\n",
      "[0.58039216 0.40392157 0.74117647 1.        ]\n",
      "[0.54901961 0.3372549  0.29411765 1.        ]\n",
      "[0.89019608 0.46666667 0.76078431 1.        ]\n",
      "[0.49803922 0.49803922 0.49803922 1.        ]\n",
      "[0.7372549  0.74117647 0.13333333 1.        ]\n"
     ]
    }
   ],
   "source": [
    "colors = cm.tab10(np.linspace(0, 1, 10))\n",
    "\n",
    "e = 5\n",
    "display.setDefaultBackend(\"matplotlib\")\n",
    "\n",
    "fig = plt.figure(figsize=(20, 20))\n",
    "disp = rgb.displayRGB(rgb_im, show=False)\n",
    "#disp.line([(8500, 24000), (8500, 25000)], ctype='yellow')\n",
    "\n",
    "for sky, c in zip(skyBbox, colors):\n",
    "    box = wcs.skyToPixel(sky[1:])\n",
    "    X = [box[0].getX()-X0+e, box[0].getX()-X0+e, box[1].getX()-X0-e, box[1].getX()-X0-e, box[0].getX()-X0+e]\n",
    "    Y = [box[0].getY()-Y0-e, box[1].getY()-Y0+e, box[1].getY()-Y0+e, box[0].getY()-Y0-e, box[0].getY()-Y0-e]\n",
    "    disp.plot(X,Y, color=c)\n",
    "\n",
    "count = 0\n",
    "for halo, df in z:\n",
    "    if len(df) < 5 :\n",
    "        continue\n",
    "    c = colors[count]\n",
    "    count += 1\n",
    "    galX = []\n",
    "    galY = []\n",
    "    for k in range(len(df)):\n",
    "        p = geom.SpherePoint(list(df.coord_ra)[k]*geom.degrees, list(df.coord_dec)[k]*geom.degrees)\n",
    "        galX.append(wcs.skyToPixel(p).getX()-X0)\n",
    "        galY.append(wcs.skyToPixel(p).getY()-Y0)\n",
    "    disp.scatter(galX, galY, s=80, facecolors='none', edgecolors=c)\n",
    "    disp.scatter([500], [1000], s=80, facecolors='none', edgecolors=\"y\")"
   ]
  },
  {
   "cell_type": "code",
   "execution_count": null,
   "id": "a0510fac-f201-4aa6-b08e-6faec0aee997",
   "metadata": {},
   "outputs": [],
   "source": []
  }
 ],
 "metadata": {
  "kernelspec": {
   "display_name": "lsst_distrib",
   "language": "python",
   "name": "lsst_distrib"
  },
  "language_info": {
   "codemirror_mode": {
    "name": "ipython",
    "version": 3
   },
   "file_extension": ".py",
   "mimetype": "text/x-python",
   "name": "python",
   "nbconvert_exporter": "python",
   "pygments_lexer": "ipython3",
   "version": "3.8.12"
  }
 },
 "nbformat": 4,
 "nbformat_minor": 5
}
